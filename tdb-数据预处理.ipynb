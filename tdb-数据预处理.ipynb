{
 "cells": [
  {
   "cell_type": "markdown",
   "metadata": {},
   "source": [
    "## 数据探索"
   ]
  },
  {
   "cell_type": "code",
   "execution_count": 2,
   "metadata": {},
   "outputs": [],
   "source": [
    "import numpy as np\n",
    "import pandas as pd\n",
    "fenlei=pd.read_csv('Desktop/压缩包/附件1.csv')\n",
    "liuyan=pd.read_csv('Desktop/压缩包/附件2.csv')\n",
    "redu=pd.read_csv('Desktop/压缩包/附件3.csv')\n",
    "dafu=pd.read_csv('Desktop/压缩包/附件4.csv')"
   ]
  },
  {
   "cell_type": "code",
   "execution_count": 3,
   "metadata": {},
   "outputs": [
    {
     "data": {
      "text/html": [
       "<div>\n",
       "<style scoped>\n",
       "    .dataframe tbody tr th:only-of-type {\n",
       "        vertical-align: middle;\n",
       "    }\n",
       "\n",
       "    .dataframe tbody tr th {\n",
       "        vertical-align: top;\n",
       "    }\n",
       "\n",
       "    .dataframe thead th {\n",
       "        text-align: right;\n",
       "    }\n",
       "</style>\n",
       "<table border=\"1\" class=\"dataframe\">\n",
       "  <thead>\n",
       "    <tr style=\"text-align: right;\">\n",
       "      <th></th>\n",
       "      <th>一级分类</th>\n",
       "      <th>二级分类</th>\n",
       "      <th>三级分类</th>\n",
       "    </tr>\n",
       "  </thead>\n",
       "  <tbody>\n",
       "    <tr>\n",
       "      <th>0</th>\n",
       "      <td>城乡建设</td>\n",
       "      <td>安全生产</td>\n",
       "      <td>事故处理</td>\n",
       "    </tr>\n",
       "    <tr>\n",
       "      <th>1</th>\n",
       "      <td>城乡建设</td>\n",
       "      <td>安全生产</td>\n",
       "      <td>安全生产管理</td>\n",
       "    </tr>\n",
       "    <tr>\n",
       "      <th>2</th>\n",
       "      <td>城乡建设</td>\n",
       "      <td>安全生产</td>\n",
       "      <td>安全隐患</td>\n",
       "    </tr>\n",
       "    <tr>\n",
       "      <th>3</th>\n",
       "      <td>城乡建设</td>\n",
       "      <td>城市建设和市政管理</td>\n",
       "      <td>园林绿化环卫</td>\n",
       "    </tr>\n",
       "    <tr>\n",
       "      <th>4</th>\n",
       "      <td>城乡建设</td>\n",
       "      <td>城市建设和市政管理</td>\n",
       "      <td>城管执法</td>\n",
       "    </tr>\n",
       "  </tbody>\n",
       "</table>\n",
       "</div>"
      ],
      "text/plain": [
       "   一级分类       二级分类    三级分类\n",
       "0  城乡建设       安全生产    事故处理\n",
       "1  城乡建设       安全生产  安全生产管理\n",
       "2  城乡建设       安全生产    安全隐患\n",
       "3  城乡建设  城市建设和市政管理  园林绿化环卫\n",
       "4  城乡建设  城市建设和市政管理    城管执法"
      ]
     },
     "execution_count": 3,
     "metadata": {},
     "output_type": "execute_result"
    }
   ],
   "source": [
    "fenlei.head()"
   ]
  },
  {
   "cell_type": "code",
   "execution_count": 4,
   "metadata": {},
   "outputs": [
    {
     "data": {
      "text/html": [
       "<div>\n",
       "<style scoped>\n",
       "    .dataframe tbody tr th:only-of-type {\n",
       "        vertical-align: middle;\n",
       "    }\n",
       "\n",
       "    .dataframe tbody tr th {\n",
       "        vertical-align: top;\n",
       "    }\n",
       "\n",
       "    .dataframe thead th {\n",
       "        text-align: right;\n",
       "    }\n",
       "</style>\n",
       "<table border=\"1\" class=\"dataframe\">\n",
       "  <thead>\n",
       "    <tr style=\"text-align: right;\">\n",
       "      <th></th>\n",
       "      <th>留言编号</th>\n",
       "      <th>留言用户</th>\n",
       "      <th>留言主题</th>\n",
       "      <th>留言时间</th>\n",
       "      <th>留言详情</th>\n",
       "      <th>一级标签</th>\n",
       "    </tr>\n",
       "  </thead>\n",
       "  <tbody>\n",
       "    <tr>\n",
       "      <th>0</th>\n",
       "      <td>24</td>\n",
       "      <td>A00074011</td>\n",
       "      <td>A市西湖建筑集团占道施工有安全隐患</td>\n",
       "      <td>2020/1/6 12:09:38</td>\n",
       "      <td>\\n\\t\\t\\t\\t\\t\\n\\t\\t\\t\\t\\tA3区大道西行便道，未管所路口至加油站路段，...</td>\n",
       "      <td>城乡建设</td>\n",
       "    </tr>\n",
       "    <tr>\n",
       "      <th>1</th>\n",
       "      <td>37</td>\n",
       "      <td>U0008473</td>\n",
       "      <td>A市在水一方大厦人为烂尾多年，安全隐患严重</td>\n",
       "      <td>2020/1/4 11:17:46</td>\n",
       "      <td>\\n\\t\\t\\t\\t\\t\\n\\t\\t\\t\\t\\t位于书院路主干道的在水一方大厦一楼至四楼人为...</td>\n",
       "      <td>城乡建设</td>\n",
       "    </tr>\n",
       "    <tr>\n",
       "      <th>2</th>\n",
       "      <td>83</td>\n",
       "      <td>A00063999</td>\n",
       "      <td>投诉A市A1区苑物业违规收停车费</td>\n",
       "      <td>2019/12/30 17:06:14</td>\n",
       "      <td>\\n\\t\\t\\t\\t\\t\\n\\t\\t\\t\\t\\t尊敬的领导：A1区苑小区位于A1区火炬路，小...</td>\n",
       "      <td>城乡建设</td>\n",
       "    </tr>\n",
       "    <tr>\n",
       "      <th>3</th>\n",
       "      <td>303</td>\n",
       "      <td>U0007137</td>\n",
       "      <td>A1区蔡锷南路A2区华庭楼顶水箱长年不洗</td>\n",
       "      <td>2019/12/6 14:40:14</td>\n",
       "      <td>\\n\\t\\t\\t\\t\\t\\n\\t\\t\\t\\t\\tA1区A2区华庭小区高层为二次供水，楼顶水箱...</td>\n",
       "      <td>城乡建设</td>\n",
       "    </tr>\n",
       "    <tr>\n",
       "      <th>4</th>\n",
       "      <td>319</td>\n",
       "      <td>U0007137</td>\n",
       "      <td>A1区A2区华庭自来水好大一股霉味</td>\n",
       "      <td>2019/12/5 11:17:22</td>\n",
       "      <td>\\n\\t\\t\\t\\t\\t\\n\\t\\t\\t\\t\\tA1区A2区华庭小区高层为二次供水，楼顶水箱...</td>\n",
       "      <td>城乡建设</td>\n",
       "    </tr>\n",
       "  </tbody>\n",
       "</table>\n",
       "</div>"
      ],
      "text/plain": [
       "   留言编号       留言用户                   留言主题                 留言时间  \\\n",
       "0    24  A00074011      A市西湖建筑集团占道施工有安全隐患    2020/1/6 12:09:38   \n",
       "1    37   U0008473  A市在水一方大厦人为烂尾多年，安全隐患严重    2020/1/4 11:17:46   \n",
       "2    83  A00063999       投诉A市A1区苑物业违规收停车费  2019/12/30 17:06:14   \n",
       "3   303   U0007137   A1区蔡锷南路A2区华庭楼顶水箱长年不洗   2019/12/6 14:40:14   \n",
       "4   319   U0007137      A1区A2区华庭自来水好大一股霉味   2019/12/5 11:17:22   \n",
       "\n",
       "                                                留言详情  一级标签  \n",
       "0  \\n\\t\\t\\t\\t\\t\\n\\t\\t\\t\\t\\tA3区大道西行便道，未管所路口至加油站路段，...  城乡建设  \n",
       "1  \\n\\t\\t\\t\\t\\t\\n\\t\\t\\t\\t\\t位于书院路主干道的在水一方大厦一楼至四楼人为...  城乡建设  \n",
       "2  \\n\\t\\t\\t\\t\\t\\n\\t\\t\\t\\t\\t尊敬的领导：A1区苑小区位于A1区火炬路，小...  城乡建设  \n",
       "3  \\n\\t\\t\\t\\t\\t\\n\\t\\t\\t\\t\\tA1区A2区华庭小区高层为二次供水，楼顶水箱...  城乡建设  \n",
       "4  \\n\\t\\t\\t\\t\\t\\n\\t\\t\\t\\t\\tA1区A2区华庭小区高层为二次供水，楼顶水箱...  城乡建设  "
      ]
     },
     "execution_count": 4,
     "metadata": {},
     "output_type": "execute_result"
    }
   ],
   "source": [
    "liuyan.head()"
   ]
  },
  {
   "cell_type": "code",
   "execution_count": 5,
   "metadata": {},
   "outputs": [
    {
     "data": {
      "text/html": [
       "<div>\n",
       "<style scoped>\n",
       "    .dataframe tbody tr th:only-of-type {\n",
       "        vertical-align: middle;\n",
       "    }\n",
       "\n",
       "    .dataframe tbody tr th {\n",
       "        vertical-align: top;\n",
       "    }\n",
       "\n",
       "    .dataframe thead th {\n",
       "        text-align: right;\n",
       "    }\n",
       "</style>\n",
       "<table border=\"1\" class=\"dataframe\">\n",
       "  <thead>\n",
       "    <tr style=\"text-align: right;\">\n",
       "      <th></th>\n",
       "      <th>留言编号</th>\n",
       "      <th>留言用户</th>\n",
       "      <th>留言主题</th>\n",
       "      <th>留言时间</th>\n",
       "      <th>留言详情</th>\n",
       "      <th>反对数</th>\n",
       "      <th>点赞数</th>\n",
       "    </tr>\n",
       "  </thead>\n",
       "  <tbody>\n",
       "    <tr>\n",
       "      <th>0</th>\n",
       "      <td>188006</td>\n",
       "      <td>A000102948</td>\n",
       "      <td>A3区一米阳光婚纱艺术摄影是否合法纳税了？</td>\n",
       "      <td>2019/2/28 11:25:05</td>\n",
       "      <td>\\n\\t\\t\\t\\t\\t\\n\\t\\t\\t\\t\\t座落在A市A3区联丰路米兰春天G2栋320，...</td>\n",
       "      <td>0</td>\n",
       "      <td>0</td>\n",
       "    </tr>\n",
       "    <tr>\n",
       "      <th>1</th>\n",
       "      <td>188007</td>\n",
       "      <td>A00074795</td>\n",
       "      <td>咨询A6区道路命名规划初步成果公示和城乡门牌问题</td>\n",
       "      <td>2019/2/14 20:00:00</td>\n",
       "      <td>\\n\\t\\t\\t\\t\\t\\n\\t\\t\\t\\t\\tA市A6区道路命名规划已经初步成果公示文件，...</td>\n",
       "      <td>0</td>\n",
       "      <td>1</td>\n",
       "    </tr>\n",
       "    <tr>\n",
       "      <th>2</th>\n",
       "      <td>188031</td>\n",
       "      <td>A00040066</td>\n",
       "      <td>反映A7县春华镇金鼎村水泥路、自来水到户的问题</td>\n",
       "      <td>2019/7/19 18:19:54</td>\n",
       "      <td>\\n\\t\\t\\t\\t\\t\\n\\t\\t\\t\\t\\t本人系春华镇金鼎村七里组村民，不知是否有相关...</td>\n",
       "      <td>0</td>\n",
       "      <td>1</td>\n",
       "    </tr>\n",
       "    <tr>\n",
       "      <th>3</th>\n",
       "      <td>188039</td>\n",
       "      <td>A00081379</td>\n",
       "      <td>A2区黄兴路步行街大古道巷住户卫生间粪便外排</td>\n",
       "      <td>2019/8/19 11:48:23</td>\n",
       "      <td>\\n\\t\\t\\t\\t\\t\\n\\t\\t\\t\\t\\t靠近黄兴路步行街，城南路街道、大古道巷、一步...</td>\n",
       "      <td>0</td>\n",
       "      <td>1</td>\n",
       "    </tr>\n",
       "    <tr>\n",
       "      <th>4</th>\n",
       "      <td>188059</td>\n",
       "      <td>A00028571</td>\n",
       "      <td>A市A3区中海国际社区三期与四期中间空地夜间施工噪音扰民</td>\n",
       "      <td>2019/11/22 16:54:42</td>\n",
       "      <td>\\n\\t\\t\\t\\t\\t\\n\\t\\t\\t\\t\\tA市A3区中海国际社区三期四期中间，即蓝天璞...</td>\n",
       "      <td>0</td>\n",
       "      <td>0</td>\n",
       "    </tr>\n",
       "  </tbody>\n",
       "</table>\n",
       "</div>"
      ],
      "text/plain": [
       "     留言编号        留言用户                          留言主题                 留言时间  \\\n",
       "0  188006  A000102948         A3区一米阳光婚纱艺术摄影是否合法纳税了？   2019/2/28 11:25:05   \n",
       "1  188007   A00074795      咨询A6区道路命名规划初步成果公示和城乡门牌问题   2019/2/14 20:00:00   \n",
       "2  188031   A00040066       反映A7县春华镇金鼎村水泥路、自来水到户的问题   2019/7/19 18:19:54   \n",
       "3  188039   A00081379        A2区黄兴路步行街大古道巷住户卫生间粪便外排   2019/8/19 11:48:23   \n",
       "4  188059   A00028571  A市A3区中海国际社区三期与四期中间空地夜间施工噪音扰民  2019/11/22 16:54:42   \n",
       "\n",
       "                                                留言详情  反对数  点赞数  \n",
       "0  \\n\\t\\t\\t\\t\\t\\n\\t\\t\\t\\t\\t座落在A市A3区联丰路米兰春天G2栋320，...    0    0  \n",
       "1  \\n\\t\\t\\t\\t\\t\\n\\t\\t\\t\\t\\tA市A6区道路命名规划已经初步成果公示文件，...    0    1  \n",
       "2  \\n\\t\\t\\t\\t\\t\\n\\t\\t\\t\\t\\t本人系春华镇金鼎村七里组村民，不知是否有相关...    0    1  \n",
       "3  \\n\\t\\t\\t\\t\\t\\n\\t\\t\\t\\t\\t靠近黄兴路步行街，城南路街道、大古道巷、一步...    0    1  \n",
       "4  \\n\\t\\t\\t\\t\\t\\n\\t\\t\\t\\t\\tA市A3区中海国际社区三期四期中间，即蓝天璞...    0    0  "
      ]
     },
     "execution_count": 5,
     "metadata": {},
     "output_type": "execute_result"
    }
   ],
   "source": [
    "redu.head()"
   ]
  },
  {
   "cell_type": "code",
   "execution_count": 6,
   "metadata": {},
   "outputs": [],
   "source": [
    "redu['留言编号']=redu['留言编号'].astype(float)"
   ]
  },
  {
   "cell_type": "code",
   "execution_count": 7,
   "metadata": {},
   "outputs": [
    {
     "name": "stdout",
     "output_type": "stream",
     "text": [
      "<class 'pandas.core.frame.DataFrame'>\n",
      "RangeIndex: 4326 entries, 0 to 4325\n",
      "Data columns (total 7 columns):\n",
      "留言编号    4326 non-null float64\n",
      "留言用户    4326 non-null object\n",
      "留言主题    4326 non-null object\n",
      "留言时间    4326 non-null object\n",
      "留言详情    4326 non-null object\n",
      "反对数     4326 non-null int64\n",
      "点赞数     4326 non-null int64\n",
      "dtypes: float64(1), int64(2), object(4)\n",
      "memory usage: 236.7+ KB\n"
     ]
    }
   ],
   "source": [
    "redu.info()"
   ]
  },
  {
   "cell_type": "code",
   "execution_count": 8,
   "metadata": {},
   "outputs": [
    {
     "name": "stdout",
     "output_type": "stream",
     "text": [
      "<class 'pandas.core.frame.DataFrame'>\n",
      "RangeIndex: 9210 entries, 0 to 9209\n",
      "Data columns (total 6 columns):\n",
      "留言编号    9210 non-null int64\n",
      "留言用户    9210 non-null object\n",
      "留言主题    9210 non-null object\n",
      "留言时间    9210 non-null object\n",
      "留言详情    9210 non-null object\n",
      "一级标签    9210 non-null object\n",
      "dtypes: int64(1), object(5)\n",
      "memory usage: 431.8+ KB\n"
     ]
    }
   ],
   "source": [
    "liuyan.info()"
   ]
  },
  {
   "cell_type": "code",
   "execution_count": 9,
   "metadata": {},
   "outputs": [
    {
     "data": {
      "text/plain": [
       "array(['城乡建设', '环境保护', '交通运输', '教育文体', '劳动和社会保障', '商贸旅游', '卫生计生'],\n",
       "      dtype=object)"
      ]
     },
     "execution_count": 9,
     "metadata": {},
     "output_type": "execute_result"
    }
   ],
   "source": [
    "liuyan['一级标签'].unique()"
   ]
  },
  {
   "cell_type": "markdown",
   "metadata": {},
   "source": [
    "## 数据预处理（分词，停用词）"
   ]
  },
  {
   "cell_type": "code",
   "execution_count": 10,
   "metadata": {},
   "outputs": [],
   "source": [
    "import re\n",
    "df1=liuyan.copy()\n",
    "df1['留言详情']=df1['留言详情'].astype(str)\n",
    "df1['留言详情_cut']=df1['留言详情'].apply(lambda x:re.sub(r\"\\s+\",'',x))\n",
    "df1['留言详情_cut']=df1['留言详情_cut'].apply(lambda x:re.sub('[a-zA-Z0-9’！？。：；【】，《》!\"#$%&\\'()（）“”…*+,-./:;<=>?@[\\\\]^_`{|}~]+', '',x))"
   ]
  },
  {
   "cell_type": "code",
   "execution_count": 11,
   "metadata": {},
   "outputs": [
    {
     "data": {
      "text/html": [
       "<div>\n",
       "<style scoped>\n",
       "    .dataframe tbody tr th:only-of-type {\n",
       "        vertical-align: middle;\n",
       "    }\n",
       "\n",
       "    .dataframe tbody tr th {\n",
       "        vertical-align: top;\n",
       "    }\n",
       "\n",
       "    .dataframe thead th {\n",
       "        text-align: right;\n",
       "    }\n",
       "</style>\n",
       "<table border=\"1\" class=\"dataframe\">\n",
       "  <thead>\n",
       "    <tr style=\"text-align: right;\">\n",
       "      <th></th>\n",
       "      <th>留言编号</th>\n",
       "      <th>留言用户</th>\n",
       "      <th>留言主题</th>\n",
       "      <th>留言时间</th>\n",
       "      <th>一级标签</th>\n",
       "      <th>留言详情_cut</th>\n",
       "    </tr>\n",
       "  </thead>\n",
       "  <tbody>\n",
       "    <tr>\n",
       "      <th>0</th>\n",
       "      <td>24</td>\n",
       "      <td>A00074011</td>\n",
       "      <td>A市西湖建筑集团占道施工有安全隐患</td>\n",
       "      <td>2020/1/6 12:09:38</td>\n",
       "      <td>城乡建设</td>\n",
       "      <td>区大道西行便道未管所路口至加油站路段人行道包括路灯杆被圈西湖建筑集团燕子山安置房项目施工围墙...</td>\n",
       "    </tr>\n",
       "    <tr>\n",
       "      <th>1</th>\n",
       "      <td>37</td>\n",
       "      <td>U0008473</td>\n",
       "      <td>A市在水一方大厦人为烂尾多年，安全隐患严重</td>\n",
       "      <td>2020/1/4 11:17:46</td>\n",
       "      <td>城乡建设</td>\n",
       "      <td>位于书院路主干道的在水一方大厦一楼至四楼人为拆除水、电等设施后烂尾多年用护栏围着不但占用人行...</td>\n",
       "    </tr>\n",
       "    <tr>\n",
       "      <th>2</th>\n",
       "      <td>83</td>\n",
       "      <td>A00063999</td>\n",
       "      <td>投诉A市A1区苑物业违规收停车费</td>\n",
       "      <td>2019/12/30 17:06:14</td>\n",
       "      <td>城乡建设</td>\n",
       "      <td>尊敬的领导区苑小区位于区火炬路小区物业市程明物业管理有限公司未经小区业主同意利用业主的公摊公...</td>\n",
       "    </tr>\n",
       "    <tr>\n",
       "      <th>3</th>\n",
       "      <td>303</td>\n",
       "      <td>U0007137</td>\n",
       "      <td>A1区蔡锷南路A2区华庭楼顶水箱长年不洗</td>\n",
       "      <td>2019/12/6 14:40:14</td>\n",
       "      <td>城乡建设</td>\n",
       "      <td>区区华庭小区高层为二次供水楼顶水箱长年不洗现在自来水龙头的水严重霉味大家都知道水是我们日常生...</td>\n",
       "    </tr>\n",
       "    <tr>\n",
       "      <th>4</th>\n",
       "      <td>319</td>\n",
       "      <td>U0007137</td>\n",
       "      <td>A1区A2区华庭自来水好大一股霉味</td>\n",
       "      <td>2019/12/5 11:17:22</td>\n",
       "      <td>城乡建设</td>\n",
       "      <td>区区华庭小区高层为二次供水楼顶水箱长年不洗现在自来水龙头的水严重霉味大家都知道水是我们日常生...</td>\n",
       "    </tr>\n",
       "  </tbody>\n",
       "</table>\n",
       "</div>"
      ],
      "text/plain": [
       "   留言编号       留言用户                   留言主题                 留言时间  一级标签  \\\n",
       "0    24  A00074011      A市西湖建筑集团占道施工有安全隐患    2020/1/6 12:09:38  城乡建设   \n",
       "1    37   U0008473  A市在水一方大厦人为烂尾多年，安全隐患严重    2020/1/4 11:17:46  城乡建设   \n",
       "2    83  A00063999       投诉A市A1区苑物业违规收停车费  2019/12/30 17:06:14  城乡建设   \n",
       "3   303   U0007137   A1区蔡锷南路A2区华庭楼顶水箱长年不洗   2019/12/6 14:40:14  城乡建设   \n",
       "4   319   U0007137      A1区A2区华庭自来水好大一股霉味   2019/12/5 11:17:22  城乡建设   \n",
       "\n",
       "                                            留言详情_cut  \n",
       "0  区大道西行便道未管所路口至加油站路段人行道包括路灯杆被圈西湖建筑集团燕子山安置房项目施工围墙...  \n",
       "1  位于书院路主干道的在水一方大厦一楼至四楼人为拆除水、电等设施后烂尾多年用护栏围着不但占用人行...  \n",
       "2  尊敬的领导区苑小区位于区火炬路小区物业市程明物业管理有限公司未经小区业主同意利用业主的公摊公...  \n",
       "3  区区华庭小区高层为二次供水楼顶水箱长年不洗现在自来水龙头的水严重霉味大家都知道水是我们日常生...  \n",
       "4  区区华庭小区高层为二次供水楼顶水箱长年不洗现在自来水龙头的水严重霉味大家都知道水是我们日常生...  "
      ]
     },
     "execution_count": 11,
     "metadata": {},
     "output_type": "execute_result"
    }
   ],
   "source": [
    "df1=df1.drop(['留言详情'],axis=1)\n",
    "df1.head()"
   ]
  },
  {
   "cell_type": "code",
   "execution_count": 12,
   "metadata": {},
   "outputs": [],
   "source": [
    "import jieba\n",
    "def word_cut(sentence):\n",
    "    \"'分词'\"\n",
    "    return ' '.join(jieba.cut(sentence))\n",
    "\n",
    "def char_cut(sentence):\n",
    "    \"'分字'\"\n",
    "    return ' '.join([word for word in sentence])"
   ]
  },
  {
   "cell_type": "code",
   "execution_count": 13,
   "metadata": {},
   "outputs": [
    {
     "name": "stderr",
     "output_type": "stream",
     "text": [
      "Building prefix dict from the default dictionary ...\n",
      "Dumping model to file cache /var/folders/45/p2436z8s5hq8dlkpwh_k9trc0000gn/T/jieba.cache\n",
      "Loading model cost 0.718 seconds.\n",
      "Prefix dict has been built succesfully.\n"
     ]
    }
   ],
   "source": [
    "df1['留言详情_word_cut']=df1['留言详情_cut'].apply(lambda x: word_cut(x))\n",
    "df1['留言详情_char_cut']=df1['留言详情_cut'].apply(lambda x: char_cut(x))"
   ]
  },
  {
   "cell_type": "code",
   "execution_count": 14,
   "metadata": {},
   "outputs": [],
   "source": [
    "stopwords = [x.strip() for x in open(\"Downloads/stopwords-master/中文停用词表.txt\", encoding='utf8').readlines()]\n",
    "def delete_stopwords(sentence):\n",
    "    for word in sentence:\n",
    "        if word not in stopwords:\n",
    "            pass\n",
    "    return sentence        "
   ]
  },
  {
   "cell_type": "code",
   "execution_count": 15,
   "metadata": {},
   "outputs": [],
   "source": [
    "df1['留言详情_word_cut']=df1['留言详情_word_cut'].apply(lambda x: delete_stopwords(x))\n",
    "df1['留言详情_char_cut']=df1['留言详情_char_cut'].apply(lambda x: delete_stopwords(x))"
   ]
  },
  {
   "cell_type": "code",
   "execution_count": 16,
   "metadata": {},
   "outputs": [
    {
     "data": {
      "text/html": [
       "<div>\n",
       "<style scoped>\n",
       "    .dataframe tbody tr th:only-of-type {\n",
       "        vertical-align: middle;\n",
       "    }\n",
       "\n",
       "    .dataframe tbody tr th {\n",
       "        vertical-align: top;\n",
       "    }\n",
       "\n",
       "    .dataframe thead th {\n",
       "        text-align: right;\n",
       "    }\n",
       "</style>\n",
       "<table border=\"1\" class=\"dataframe\">\n",
       "  <thead>\n",
       "    <tr style=\"text-align: right;\">\n",
       "      <th></th>\n",
       "      <th>留言编号</th>\n",
       "      <th>留言用户</th>\n",
       "      <th>留言主题</th>\n",
       "      <th>留言时间</th>\n",
       "      <th>一级标签</th>\n",
       "      <th>留言详情_cut</th>\n",
       "      <th>留言详情_word_cut</th>\n",
       "      <th>留言详情_char_cut</th>\n",
       "    </tr>\n",
       "  </thead>\n",
       "  <tbody>\n",
       "    <tr>\n",
       "      <th>0</th>\n",
       "      <td>24</td>\n",
       "      <td>A00074011</td>\n",
       "      <td>A市西湖建筑集团占道施工有安全隐患</td>\n",
       "      <td>2020/1/6 12:09:38</td>\n",
       "      <td>城乡建设</td>\n",
       "      <td>区大道西行便道未管所路口至加油站路段人行道包括路灯杆被圈西湖建筑集团燕子山安置房项目施工围墙...</td>\n",
       "      <td>区 大道 西行 便道 未管 所 路口 至 加油站 路段 人行道 包括 路灯 杆 被 圈 西湖...</td>\n",
       "      <td>区 大 道 西 行 便 道 未 管 所 路 口 至 加 油 站 路 段 人 行 道 包 括 ...</td>\n",
       "    </tr>\n",
       "    <tr>\n",
       "      <th>1</th>\n",
       "      <td>37</td>\n",
       "      <td>U0008473</td>\n",
       "      <td>A市在水一方大厦人为烂尾多年，安全隐患严重</td>\n",
       "      <td>2020/1/4 11:17:46</td>\n",
       "      <td>城乡建设</td>\n",
       "      <td>位于书院路主干道的在水一方大厦一楼至四楼人为拆除水、电等设施后烂尾多年用护栏围着不但占用人行...</td>\n",
       "      <td>位于 书院 路 主干道 的 在水一方 大厦 一楼 至 四楼 人为 拆除 水 、 电等 设施 ...</td>\n",
       "      <td>位 于 书 院 路 主 干 道 的 在 水 一 方 大 厦 一 楼 至 四 楼 人 为 拆 ...</td>\n",
       "    </tr>\n",
       "    <tr>\n",
       "      <th>2</th>\n",
       "      <td>83</td>\n",
       "      <td>A00063999</td>\n",
       "      <td>投诉A市A1区苑物业违规收停车费</td>\n",
       "      <td>2019/12/30 17:06:14</td>\n",
       "      <td>城乡建设</td>\n",
       "      <td>尊敬的领导区苑小区位于区火炬路小区物业市程明物业管理有限公司未经小区业主同意利用业主的公摊公...</td>\n",
       "      <td>尊敬 的 领导 区苑 小区 位于 区 火炬 路 小区 物业 市程明 物业管理 有限公司 未经...</td>\n",
       "      <td>尊 敬 的 领 导 区 苑 小 区 位 于 区 火 炬 路 小 区 物 业 市 程 明 物 ...</td>\n",
       "    </tr>\n",
       "    <tr>\n",
       "      <th>3</th>\n",
       "      <td>303</td>\n",
       "      <td>U0007137</td>\n",
       "      <td>A1区蔡锷南路A2区华庭楼顶水箱长年不洗</td>\n",
       "      <td>2019/12/6 14:40:14</td>\n",
       "      <td>城乡建设</td>\n",
       "      <td>区区华庭小区高层为二次供水楼顶水箱长年不洗现在自来水龙头的水严重霉味大家都知道水是我们日常生...</td>\n",
       "      <td>区区 华庭 小区 高层 为 二次 供水 楼顶 水箱 长年 不洗 现在 自来水 龙头 的 水 ...</td>\n",
       "      <td>区 区 华 庭 小 区 高 层 为 二 次 供 水 楼 顶 水 箱 长 年 不 洗 现 在 ...</td>\n",
       "    </tr>\n",
       "    <tr>\n",
       "      <th>4</th>\n",
       "      <td>319</td>\n",
       "      <td>U0007137</td>\n",
       "      <td>A1区A2区华庭自来水好大一股霉味</td>\n",
       "      <td>2019/12/5 11:17:22</td>\n",
       "      <td>城乡建设</td>\n",
       "      <td>区区华庭小区高层为二次供水楼顶水箱长年不洗现在自来水龙头的水严重霉味大家都知道水是我们日常生...</td>\n",
       "      <td>区区 华庭 小区 高层 为 二次 供水 楼顶 水箱 长年 不洗 现在 自来水 龙头 的 水 ...</td>\n",
       "      <td>区 区 华 庭 小 区 高 层 为 二 次 供 水 楼 顶 水 箱 长 年 不 洗 现 在 ...</td>\n",
       "    </tr>\n",
       "  </tbody>\n",
       "</table>\n",
       "</div>"
      ],
      "text/plain": [
       "   留言编号       留言用户                   留言主题                 留言时间  一级标签  \\\n",
       "0    24  A00074011      A市西湖建筑集团占道施工有安全隐患    2020/1/6 12:09:38  城乡建设   \n",
       "1    37   U0008473  A市在水一方大厦人为烂尾多年，安全隐患严重    2020/1/4 11:17:46  城乡建设   \n",
       "2    83  A00063999       投诉A市A1区苑物业违规收停车费  2019/12/30 17:06:14  城乡建设   \n",
       "3   303   U0007137   A1区蔡锷南路A2区华庭楼顶水箱长年不洗   2019/12/6 14:40:14  城乡建设   \n",
       "4   319   U0007137      A1区A2区华庭自来水好大一股霉味   2019/12/5 11:17:22  城乡建设   \n",
       "\n",
       "                                            留言详情_cut  \\\n",
       "0  区大道西行便道未管所路口至加油站路段人行道包括路灯杆被圈西湖建筑集团燕子山安置房项目施工围墙...   \n",
       "1  位于书院路主干道的在水一方大厦一楼至四楼人为拆除水、电等设施后烂尾多年用护栏围着不但占用人行...   \n",
       "2  尊敬的领导区苑小区位于区火炬路小区物业市程明物业管理有限公司未经小区业主同意利用业主的公摊公...   \n",
       "3  区区华庭小区高层为二次供水楼顶水箱长年不洗现在自来水龙头的水严重霉味大家都知道水是我们日常生...   \n",
       "4  区区华庭小区高层为二次供水楼顶水箱长年不洗现在自来水龙头的水严重霉味大家都知道水是我们日常生...   \n",
       "\n",
       "                                       留言详情_word_cut  \\\n",
       "0  区 大道 西行 便道 未管 所 路口 至 加油站 路段 人行道 包括 路灯 杆 被 圈 西湖...   \n",
       "1  位于 书院 路 主干道 的 在水一方 大厦 一楼 至 四楼 人为 拆除 水 、 电等 设施 ...   \n",
       "2  尊敬 的 领导 区苑 小区 位于 区 火炬 路 小区 物业 市程明 物业管理 有限公司 未经...   \n",
       "3  区区 华庭 小区 高层 为 二次 供水 楼顶 水箱 长年 不洗 现在 自来水 龙头 的 水 ...   \n",
       "4  区区 华庭 小区 高层 为 二次 供水 楼顶 水箱 长年 不洗 现在 自来水 龙头 的 水 ...   \n",
       "\n",
       "                                       留言详情_char_cut  \n",
       "0  区 大 道 西 行 便 道 未 管 所 路 口 至 加 油 站 路 段 人 行 道 包 括 ...  \n",
       "1  位 于 书 院 路 主 干 道 的 在 水 一 方 大 厦 一 楼 至 四 楼 人 为 拆 ...  \n",
       "2  尊 敬 的 领 导 区 苑 小 区 位 于 区 火 炬 路 小 区 物 业 市 程 明 物 ...  \n",
       "3  区 区 华 庭 小 区 高 层 为 二 次 供 水 楼 顶 水 箱 长 年 不 洗 现 在 ...  \n",
       "4  区 区 华 庭 小 区 高 层 为 二 次 供 水 楼 顶 水 箱 长 年 不 洗 现 在 ...  "
      ]
     },
     "execution_count": 16,
     "metadata": {},
     "output_type": "execute_result"
    }
   ],
   "source": [
    "df1.head()"
   ]
  },
  {
   "cell_type": "code",
   "execution_count": 17,
   "metadata": {},
   "outputs": [],
   "source": [
    "df1.to_csv('Desktop/压缩包/data/data.csv')"
   ]
  }
 ],
 "metadata": {
  "kernelspec": {
   "display_name": "Python 3",
   "language": "python",
   "name": "python3"
  },
  "language_info": {
   "codemirror_mode": {
    "name": "ipython",
    "version": 3
   },
   "file_extension": ".py",
   "mimetype": "text/x-python",
   "name": "python",
   "nbconvert_exporter": "python",
   "pygments_lexer": "ipython3",
   "version": "3.7.3"
  }
 },
 "nbformat": 4,
 "nbformat_minor": 4
}
